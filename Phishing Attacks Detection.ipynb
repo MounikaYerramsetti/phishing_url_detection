{
 "cells": [
  {
   "cell_type": "code",
   "execution_count": 22,
   "id": "c5a7dd5e-0506-41ca-9310-20c977327bb2",
   "metadata": {},
   "outputs": [],
   "source": [
    "# Step 1: Import Necessary Libraries\n",
    "import numpy as np\n",
    "import pandas as pd\n",
    "import torch\n",
    "import learn2learn as l2l\n",
    "from imblearn.over_sampling import SMOTE\n",
    "from sklearn.model_selection import train_test_split\n",
    "from sklearn.preprocessing import StandardScaler, LabelEncoder\n",
    "from sklearn.metrics import accuracy_score, classification_report\n",
    "import torch.nn as nn\n",
    "import torch.optim as optim"
   ]
  },
  {
   "cell_type": "code",
   "execution_count": 23,
   "id": "5355bd4b-b0a6-4bda-a7e8-16b39a588726",
   "metadata": {},
   "outputs": [],
   "source": [
    "# Step 2: Load the Dataset\n",
    "df = pd.read_csv(\"phishing_site_urls.csv\")  # Ensure dataset is in the working directory"
   ]
  },
  {
   "cell_type": "code",
   "execution_count": 28,
   "id": "c1c18fd5-a4b7-48a9-bbd6-7919e81fbcd9",
   "metadata": {},
   "outputs": [
    {
     "data": {
      "text/html": [
       "<div>\n",
       "<style scoped>\n",
       "    .dataframe tbody tr th:only-of-type {\n",
       "        vertical-align: middle;\n",
       "    }\n",
       "\n",
       "    .dataframe tbody tr th {\n",
       "        vertical-align: top;\n",
       "    }\n",
       "\n",
       "    .dataframe thead th {\n",
       "        text-align: right;\n",
       "    }\n",
       "</style>\n",
       "<table border=\"1\" class=\"dataframe\">\n",
       "  <thead>\n",
       "    <tr style=\"text-align: right;\">\n",
       "      <th></th>\n",
       "      <th>URL</th>\n",
       "      <th>Label</th>\n",
       "      <th>url_length</th>\n",
       "      <th>num_digits</th>\n",
       "      <th>num_special_chars</th>\n",
       "      <th>num_subdomains</th>\n",
       "      <th>has_https</th>\n",
       "    </tr>\n",
       "  </thead>\n",
       "  <tbody>\n",
       "    <tr>\n",
       "      <th>0</th>\n",
       "      <td>nobell.it/70ffb52d079109dca5664cce6f317373782/...</td>\n",
       "      <td>bad</td>\n",
       "      <td>225</td>\n",
       "      <td>58</td>\n",
       "      <td>24</td>\n",
       "      <td>6</td>\n",
       "      <td>0</td>\n",
       "    </tr>\n",
       "    <tr>\n",
       "      <th>1</th>\n",
       "      <td>www.dghjdgf.com/paypal.co.uk/cycgi-bin/webscrc...</td>\n",
       "      <td>bad</td>\n",
       "      <td>81</td>\n",
       "      <td>1</td>\n",
       "      <td>12</td>\n",
       "      <td>5</td>\n",
       "      <td>0</td>\n",
       "    </tr>\n",
       "    <tr>\n",
       "      <th>2</th>\n",
       "      <td>serviciosbys.com/paypal.cgi.bin.get-into.herf....</td>\n",
       "      <td>bad</td>\n",
       "      <td>177</td>\n",
       "      <td>47</td>\n",
       "      <td>19</td>\n",
       "      <td>7</td>\n",
       "      <td>0</td>\n",
       "    </tr>\n",
       "    <tr>\n",
       "      <th>3</th>\n",
       "      <td>mail.printakid.com/www.online.americanexpress....</td>\n",
       "      <td>bad</td>\n",
       "      <td>60</td>\n",
       "      <td>0</td>\n",
       "      <td>8</td>\n",
       "      <td>6</td>\n",
       "      <td>0</td>\n",
       "    </tr>\n",
       "    <tr>\n",
       "      <th>4</th>\n",
       "      <td>thewhiskeydregs.com/wp-content/themes/widescre...</td>\n",
       "      <td>bad</td>\n",
       "      <td>116</td>\n",
       "      <td>21</td>\n",
       "      <td>12</td>\n",
       "      <td>1</td>\n",
       "      <td>0</td>\n",
       "    </tr>\n",
       "  </tbody>\n",
       "</table>\n",
       "</div>"
      ],
      "text/plain": [
       "                                                 URL Label  url_length  \\\n",
       "0  nobell.it/70ffb52d079109dca5664cce6f317373782/...   bad         225   \n",
       "1  www.dghjdgf.com/paypal.co.uk/cycgi-bin/webscrc...   bad          81   \n",
       "2  serviciosbys.com/paypal.cgi.bin.get-into.herf....   bad         177   \n",
       "3  mail.printakid.com/www.online.americanexpress....   bad          60   \n",
       "4  thewhiskeydregs.com/wp-content/themes/widescre...   bad         116   \n",
       "\n",
       "   num_digits  num_special_chars  num_subdomains  has_https  \n",
       "0          58                 24               6          0  \n",
       "1           1                 12               5          0  \n",
       "2          47                 19               7          0  \n",
       "3           0                  8               6          0  \n",
       "4          21                 12               1          0  "
      ]
     },
     "execution_count": 28,
     "metadata": {},
     "output_type": "execute_result"
    }
   ],
   "source": [
    "df.head()"
   ]
  },
  {
   "cell_type": "code",
   "execution_count": 27,
   "id": "91a440ae-0e47-46f7-8576-7604d4ed5d87",
   "metadata": {},
   "outputs": [],
   "source": [
    "# Step 3: Feature Engineering (Lexical & Host-Based Features)\n",
    "df['url_length'] = df['URL'].apply(len)\n",
    "df['num_digits'] = df['URL'].apply(lambda x: sum(c.isdigit() for c in x))\n",
    "df['num_special_chars'] = df['URL'].apply(lambda x: sum(c in ['.', '/', '-', '_'] for c in x))\n",
    "df['num_subdomains'] = df['URL'].apply(lambda x: x.count('.'))\n",
    "df['has_https'] = df['URL'].apply(lambda x: 1 if 'https' in x.lower() else 0)"
   ]
  },
  {
   "cell_type": "code",
   "execution_count": 29,
   "id": "791c16e8-6e8a-46d0-8bfa-362d881f3d9f",
   "metadata": {},
   "outputs": [],
   "source": [
    "import whois\n",
    "from datetime import datetime\n",
    "\n",
    "def get_domain_age(url):\n",
    "    try:\n",
    "        domain_info = whois.whois(url)\n",
    "        creation_date = domain_info.creation_date\n",
    "        if isinstance(creation_date, list):\n",
    "            creation_date = creation_date[0]  # Take the first date if multiple exist\n",
    "        age = (datetime.now() - creation_date).days if creation_date else 0\n",
    "        return age\n",
    "    except:\n",
    "        return 0\n",
    "\n",
    "df[\"domain_age\"] = df[\"URL\"].apply(get_domain_age)\n"
   ]
  },
  {
   "cell_type": "code",
   "execution_count": 31,
   "id": "ea19beb9-c5a3-4e19-8f73-8eba5c7f8086",
   "metadata": {},
   "outputs": [],
   "source": [
    "df['domain_age'] = df['domain_age'].fillna(0)  # Fill missing values with 0"
   ]
  },
  {
   "cell_type": "code",
   "execution_count": 32,
   "id": "5c01004c-69c6-4122-bed1-415a509a3407",
   "metadata": {},
   "outputs": [
    {
     "data": {
      "text/html": [
       "<div>\n",
       "<style scoped>\n",
       "    .dataframe tbody tr th:only-of-type {\n",
       "        vertical-align: middle;\n",
       "    }\n",
       "\n",
       "    .dataframe tbody tr th {\n",
       "        vertical-align: top;\n",
       "    }\n",
       "\n",
       "    .dataframe thead th {\n",
       "        text-align: right;\n",
       "    }\n",
       "</style>\n",
       "<table border=\"1\" class=\"dataframe\">\n",
       "  <thead>\n",
       "    <tr style=\"text-align: right;\">\n",
       "      <th></th>\n",
       "      <th>URL</th>\n",
       "      <th>Label</th>\n",
       "      <th>url_length</th>\n",
       "      <th>num_digits</th>\n",
       "      <th>num_special_chars</th>\n",
       "      <th>num_subdomains</th>\n",
       "      <th>has_https</th>\n",
       "      <th>domain_age</th>\n",
       "    </tr>\n",
       "  </thead>\n",
       "  <tbody>\n",
       "    <tr>\n",
       "      <th>0</th>\n",
       "      <td>nobell.it/70ffb52d079109dca5664cce6f317373782/...</td>\n",
       "      <td>bad</td>\n",
       "      <td>225</td>\n",
       "      <td>58</td>\n",
       "      <td>24</td>\n",
       "      <td>6</td>\n",
       "      <td>0</td>\n",
       "      <td>0</td>\n",
       "    </tr>\n",
       "    <tr>\n",
       "      <th>1</th>\n",
       "      <td>www.dghjdgf.com/paypal.co.uk/cycgi-bin/webscrc...</td>\n",
       "      <td>bad</td>\n",
       "      <td>81</td>\n",
       "      <td>1</td>\n",
       "      <td>12</td>\n",
       "      <td>5</td>\n",
       "      <td>0</td>\n",
       "      <td>0</td>\n",
       "    </tr>\n",
       "    <tr>\n",
       "      <th>2</th>\n",
       "      <td>serviciosbys.com/paypal.cgi.bin.get-into.herf....</td>\n",
       "      <td>bad</td>\n",
       "      <td>177</td>\n",
       "      <td>47</td>\n",
       "      <td>19</td>\n",
       "      <td>7</td>\n",
       "      <td>0</td>\n",
       "      <td>0</td>\n",
       "    </tr>\n",
       "    <tr>\n",
       "      <th>3</th>\n",
       "      <td>mail.printakid.com/www.online.americanexpress....</td>\n",
       "      <td>bad</td>\n",
       "      <td>60</td>\n",
       "      <td>0</td>\n",
       "      <td>8</td>\n",
       "      <td>6</td>\n",
       "      <td>0</td>\n",
       "      <td>0</td>\n",
       "    </tr>\n",
       "    <tr>\n",
       "      <th>4</th>\n",
       "      <td>thewhiskeydregs.com/wp-content/themes/widescre...</td>\n",
       "      <td>bad</td>\n",
       "      <td>116</td>\n",
       "      <td>21</td>\n",
       "      <td>12</td>\n",
       "      <td>1</td>\n",
       "      <td>0</td>\n",
       "      <td>0</td>\n",
       "    </tr>\n",
       "  </tbody>\n",
       "</table>\n",
       "</div>"
      ],
      "text/plain": [
       "                                                 URL Label  url_length  \\\n",
       "0  nobell.it/70ffb52d079109dca5664cce6f317373782/...   bad         225   \n",
       "1  www.dghjdgf.com/paypal.co.uk/cycgi-bin/webscrc...   bad          81   \n",
       "2  serviciosbys.com/paypal.cgi.bin.get-into.herf....   bad         177   \n",
       "3  mail.printakid.com/www.online.americanexpress....   bad          60   \n",
       "4  thewhiskeydregs.com/wp-content/themes/widescre...   bad         116   \n",
       "\n",
       "   num_digits  num_special_chars  num_subdomains  has_https  domain_age  \n",
       "0          58                 24               6          0           0  \n",
       "1           1                 12               5          0           0  \n",
       "2          47                 19               7          0           0  \n",
       "3           0                  8               6          0           0  \n",
       "4          21                 12               1          0           0  "
      ]
     },
     "execution_count": 32,
     "metadata": {},
     "output_type": "execute_result"
    }
   ],
   "source": [
    "df.head()"
   ]
  },
  {
   "cell_type": "code",
   "execution_count": 33,
   "id": "55d8fd34-4269-4f34-a7d9-1f1e4ac531df",
   "metadata": {},
   "outputs": [],
   "source": [
    "# Step 4: Convert Labels to Numerical\n",
    "label_encoder = LabelEncoder()\n",
    "df['Label'] = label_encoder.fit_transform(df['Label'])  # 0 = Legitimate, 1 = Malicious"
   ]
  },
  {
   "cell_type": "code",
   "execution_count": 34,
   "id": "5623de1e-53c0-41ec-a2bd-56783e61fed7",
   "metadata": {},
   "outputs": [],
   "source": [
    "# Step 5: Select Features & Labels\n",
    "X = df[['url_length', 'num_digits', 'num_special_chars', 'num_subdomains', 'has_https', 'domain_age']]\n",
    "y = df['Label']"
   ]
  },
  {
   "cell_type": "code",
   "execution_count": 35,
   "id": "21f35885-09b0-42d3-b9e9-f37da4f1a68b",
   "metadata": {},
   "outputs": [],
   "source": [
    "# Step 6: Train-Test Split\n",
    "X_train, X_test, y_train, y_test = train_test_split(X, y, test_size=0.2, random_state=42, stratify=y)"
   ]
  },
  {
   "cell_type": "code",
   "execution_count": 36,
   "id": "8abac276-04ed-496c-ba3e-e233897ea11e",
   "metadata": {},
   "outputs": [],
   "source": [
    "# Step 7: Apply SMOTE for Class Balancing\n",
    "smote = SMOTE(sampling_strategy='auto', random_state=42)\n",
    "X_train_resampled, y_train_resampled = smote.fit_resample(X_train, y_train)"
   ]
  },
  {
   "cell_type": "code",
   "execution_count": 37,
   "id": "17b6af46-31b1-4c9f-877b-9efd7b066951",
   "metadata": {},
   "outputs": [],
   "source": [
    "# Step 8: Standardize Features\n",
    "scaler = StandardScaler()\n",
    "X_train_resampled = scaler.fit_transform(X_train_resampled)\n",
    "X_test = scaler.transform(X_test)\n",
    "\n",
    "# Convert Data to PyTorch Tensors\n",
    "X_train_tensor = torch.tensor(X_train_resampled, dtype=torch.float32)\n",
    "y_train_tensor = torch.tensor(y_train_resampled.values, dtype=torch.long)\n",
    "X_test_tensor = torch.tensor(X_test, dtype=torch.float32)\n",
    "y_test_tensor = torch.tensor(y_test.values, dtype=torch.long)"
   ]
  },
  {
   "cell_type": "code",
   "execution_count": 38,
   "id": "74e3a8d0-059e-48d3-aff3-71bed0459572",
   "metadata": {},
   "outputs": [],
   "source": [
    "# Step 9: Define MAML-Based Model\n",
    "class MAMLModel(nn.Module):\n",
    "    def __init__(self, input_size):\n",
    "        super(MAMLModel, self).__init__()\n",
    "        self.fc1 = nn.Linear(input_size, 64)\n",
    "        self.fc2 = nn.Linear(64, 32)\n",
    "        self.fc3 = nn.Linear(32, 2)  # Output layer (Binary Classification)\n",
    "\n",
    "    def forward(self, x):\n",
    "        x = torch.relu(self.fc1(x))\n",
    "        x = torch.relu(self.fc2(x))\n",
    "        return self.fc3(x)"
   ]
  },
  {
   "cell_type": "code",
   "execution_count": 39,
   "id": "e1988e5e-5278-4dc4-b4a0-ebff41de4b2d",
   "metadata": {},
   "outputs": [],
   "source": [
    "# Step 10: Initialize Model & MAML Algorithm\n",
    "input_size = X_train_tensor.shape[1]\n",
    "model = MAMLModel(input_size)\n",
    "maml = l2l.algorithms.MAML(model, lr=0.001, first_order=False)\n",
    "optimizer = optim.Adam(maml.parameters(), lr=0.001)\n",
    "loss_function = nn.CrossEntropyLoss()"
   ]
  },
  {
   "cell_type": "code",
   "execution_count": 40,
   "id": "4608b395-f763-4a2e-8679-cb4cde76c003",
   "metadata": {},
   "outputs": [
    {
     "name": "stdout",
     "output_type": "stream",
     "text": [
      "Epoch 0/1000, Loss: 0.6949577927589417\n",
      "Epoch 100/1000, Loss: 0.5836813449859619\n",
      "Epoch 200/1000, Loss: 0.5506035685539246\n",
      "Epoch 300/1000, Loss: 0.5351392030715942\n",
      "Epoch 400/1000, Loss: 0.5247899889945984\n",
      "Epoch 500/1000, Loss: 0.5168629884719849\n",
      "Epoch 600/1000, Loss: 0.5111380815505981\n",
      "Epoch 700/1000, Loss: 0.5070642232894897\n",
      "Epoch 800/1000, Loss: 0.5044757127761841\n",
      "Epoch 900/1000, Loss: 0.5026086568832397\n"
     ]
    }
   ],
   "source": [
    "# Step 11: Train the MAML Model\n",
    "epochs = 1000\n",
    "for epoch in range(epochs):\n",
    "    optimizer.zero_grad()\n",
    "    \n",
    "    # Inner loop: Simulate task adaptation\n",
    "    learner = maml.clone()\n",
    "    predictions = learner(X_train_tensor)\n",
    "    loss = loss_function(predictions, y_train_tensor)\n",
    "    \n",
    "    loss.backward()\n",
    "    optimizer.step()\n",
    "\n",
    "    if epoch % 100 == 0:\n",
    "        print(f\"Epoch {epoch}/{epochs}, Loss: {loss.item()}\")"
   ]
  },
  {
   "cell_type": "code",
   "execution_count": 42,
   "id": "ab16066c-cc89-4ac3-8dc2-8a89b0e240f8",
   "metadata": {},
   "outputs": [],
   "source": [
    "# Step 12: Evaluate the Model\n",
    "with torch.no_grad():\n",
    "    test_predictions = model(X_test_tensor)\n",
    "    test_predictions = torch.argmax(test_predictions, dim=1).numpy()"
   ]
  },
  {
   "cell_type": "code",
   "execution_count": 43,
   "id": "d6c36ac1-c88b-4439-a6aa-3c278883736b",
   "metadata": {},
   "outputs": [
    {
     "name": "stdout",
     "output_type": "stream",
     "text": [
      "Accuracy: 0.7680\n",
      "Classification Report:\n",
      "              precision    recall  f1-score   support\n",
      "\n",
      "           0       0.58      0.64      0.61     31285\n",
      "           1       0.85      0.82      0.83     78585\n",
      "\n",
      "    accuracy                           0.77    109870\n",
      "   macro avg       0.72      0.73      0.72    109870\n",
      "weighted avg       0.78      0.77      0.77    109870\n",
      "\n"
     ]
    }
   ],
   "source": [
    "# Step 13: Print Model Performance\n",
    "accuracy = accuracy_score(y_test, test_predictions)\n",
    "print(f\"Accuracy: {accuracy:.4f}\")\n",
    "\n",
    "print(\"Classification Report:\")\n",
    "print(classification_report(y_test, test_predictions))"
   ]
  },
  {
   "cell_type": "code",
   "execution_count": null,
   "id": "dbeb294d-a438-4715-81e8-0aad669439d7",
   "metadata": {},
   "outputs": [],
   "source": []
  }
 ],
 "metadata": {
  "kernelspec": {
   "display_name": "Python 3 (ipykernel)",
   "language": "python",
   "name": "python3"
  },
  "language_info": {
   "codemirror_mode": {
    "name": "ipython",
    "version": 3
   },
   "file_extension": ".py",
   "mimetype": "text/x-python",
   "name": "python",
   "nbconvert_exporter": "python",
   "pygments_lexer": "ipython3",
   "version": "3.10.11"
  }
 },
 "nbformat": 4,
 "nbformat_minor": 5
}
