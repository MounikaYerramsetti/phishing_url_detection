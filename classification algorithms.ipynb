{
 "cells": [
  {
   "cell_type": "code",
   "execution_count": 3,
   "id": "b4286c52-54f4-4d53-bbfa-5c7cca7861d9",
   "metadata": {},
   "outputs": [],
   "source": [
    "# Importing basic libraries\n",
    "import pandas as pd\n",
    "import numpy as np\n",
    "import matplotlib.pyplot as plt\n",
    "import seaborn as sns\n",
    "# Importing all classification algorithms\n",
    "from sklearn.preprocessing import StandardScaler, LabelEncoder\n",
    "from sklearn.linear_model import LogisticRegression\n",
    "from sklearn.tree import DecisionTreeClassifier\n",
    "from sklearn.ensemble import RandomForestClassifier, GradientBoostingClassifier, AdaBoostClassifier\n",
    "from sklearn.svm import SVC\n",
    "from sklearn.neighbors import KNeighborsClassifier\n",
    "from sklearn.naive_bayes import GaussianNB\n",
    "import xgboost as xgb\n",
    "from imblearn.over_sampling import SMOTE\n",
    "import torch.nn as nn\n",
    "import torch.optim as optim\n",
    "from sklearn.metrics import accuracy_score, classification_report\n",
    "from sklearn.feature_extraction.text import TfidfVectorizer\n",
    "from sklearn.metrics.pairwise import cosine_similarity\n",
    "from Levenshtein import distance as levenshtein_distance\n",
    "import tldextract\n",
    "from collections import Counter\n"
   ]
  },
  {
   "cell_type": "code",
   "execution_count": 5,
   "id": "62694598-bd31-4608-a48c-2e5dc7fc18e8",
   "metadata": {},
   "outputs": [],
   "source": [
    "df = pd.read_csv(\"phishing_site_urls.csv\")  "
   ]
  },
  {
   "cell_type": "code",
   "execution_count": 7,
   "id": "4ff4426b-3c7a-4e4d-96aa-6861cebfba47",
   "metadata": {},
   "outputs": [
    {
     "data": {
      "text/html": [
       "<div>\n",
       "<style scoped>\n",
       "    .dataframe tbody tr th:only-of-type {\n",
       "        vertical-align: middle;\n",
       "    }\n",
       "\n",
       "    .dataframe tbody tr th {\n",
       "        vertical-align: top;\n",
       "    }\n",
       "\n",
       "    .dataframe thead th {\n",
       "        text-align: right;\n",
       "    }\n",
       "</style>\n",
       "<table border=\"1\" class=\"dataframe\">\n",
       "  <thead>\n",
       "    <tr style=\"text-align: right;\">\n",
       "      <th></th>\n",
       "      <th>URL</th>\n",
       "      <th>Label</th>\n",
       "    </tr>\n",
       "  </thead>\n",
       "  <tbody>\n",
       "    <tr>\n",
       "      <th>0</th>\n",
       "      <td>nobell.it/70ffb52d079109dca5664cce6f317373782/...</td>\n",
       "      <td>bad</td>\n",
       "    </tr>\n",
       "    <tr>\n",
       "      <th>1</th>\n",
       "      <td>www.dghjdgf.com/paypal.co.uk/cycgi-bin/webscrc...</td>\n",
       "      <td>bad</td>\n",
       "    </tr>\n",
       "    <tr>\n",
       "      <th>2</th>\n",
       "      <td>serviciosbys.com/paypal.cgi.bin.get-into.herf....</td>\n",
       "      <td>bad</td>\n",
       "    </tr>\n",
       "    <tr>\n",
       "      <th>3</th>\n",
       "      <td>mail.printakid.com/www.online.americanexpress....</td>\n",
       "      <td>bad</td>\n",
       "    </tr>\n",
       "    <tr>\n",
       "      <th>4</th>\n",
       "      <td>thewhiskeydregs.com/wp-content/themes/widescre...</td>\n",
       "      <td>bad</td>\n",
       "    </tr>\n",
       "  </tbody>\n",
       "</table>\n",
       "</div>"
      ],
      "text/plain": [
       "                                                 URL Label\n",
       "0  nobell.it/70ffb52d079109dca5664cce6f317373782/...   bad\n",
       "1  www.dghjdgf.com/paypal.co.uk/cycgi-bin/webscrc...   bad\n",
       "2  serviciosbys.com/paypal.cgi.bin.get-into.herf....   bad\n",
       "3  mail.printakid.com/www.online.americanexpress....   bad\n",
       "4  thewhiskeydregs.com/wp-content/themes/widescre...   bad"
      ]
     },
     "execution_count": 7,
     "metadata": {},
     "output_type": "execute_result"
    }
   ],
   "source": [
    "df.head()"
   ]
  },
  {
   "cell_type": "code",
   "execution_count": 13,
   "id": "30dabeb2-9db4-42bf-ad8e-cc074d23138d",
   "metadata": {},
   "outputs": [
    {
     "data": {
      "text/html": [
       "<div>\n",
       "<style scoped>\n",
       "    .dataframe tbody tr th:only-of-type {\n",
       "        vertical-align: middle;\n",
       "    }\n",
       "\n",
       "    .dataframe tbody tr th {\n",
       "        vertical-align: top;\n",
       "    }\n",
       "\n",
       "    .dataframe thead th {\n",
       "        text-align: right;\n",
       "    }\n",
       "</style>\n",
       "<table border=\"1\" class=\"dataframe\">\n",
       "  <thead>\n",
       "    <tr style=\"text-align: right;\">\n",
       "      <th></th>\n",
       "      <th>URL</th>\n",
       "      <th>Label</th>\n",
       "    </tr>\n",
       "  </thead>\n",
       "  <tbody>\n",
       "    <tr>\n",
       "      <th>0</th>\n",
       "      <td>nobell.it/70ffb52d079109dca5664cce6f317373782/...</td>\n",
       "      <td>bad</td>\n",
       "    </tr>\n",
       "  </tbody>\n",
       "</table>\n",
       "</div>"
      ],
      "text/plain": [
       "                                                 URL Label\n",
       "0  nobell.it/70ffb52d079109dca5664cce6f317373782/...   bad"
      ]
     },
     "execution_count": 13,
     "metadata": {},
     "output_type": "execute_result"
    }
   ],
   "source": [
    "df.head(1)"
   ]
  },
  {
   "cell_type": "code",
   "execution_count": 9,
   "id": "c8e52cb3-4bd2-41e6-b422-7a150ddb093c",
   "metadata": {},
   "outputs": [],
   "source": [
    "def extract_domain(url):\n",
    "    extracted = tldextract.extract(url)\n",
    "    return f\"{extracted.domain}.{extracted.suffix}\" if extracted.suffix else extracted.domain\n"
   ]
  },
  {
   "cell_type": "code",
   "execution_count": 11,
   "id": "539327b4-3073-49e1-8551-b9652763c95b",
   "metadata": {},
   "outputs": [],
   "source": [
    "df['domain'] = df['URL'].apply(extract_domain)"
   ]
  },
  {
   "cell_type": "code",
   "execution_count": 13,
   "id": "71fa6289-cae0-4655-bd04-1b6db506cdb0",
   "metadata": {},
   "outputs": [],
   "source": [
    "top_legit_domains = [domain for domain, count in Counter(df['domain']).most_common(50)]"
   ]
  },
  {
   "cell_type": "code",
   "execution_count": 15,
   "id": "84c2dc48-7910-4476-b748-162184587998",
   "metadata": {},
   "outputs": [],
   "source": [
    "def get_min_levenshtein(url, legit_domains):\n",
    "    domain = url.split('/')[0]  # Extract main domain\n",
    "    return min(levenshtein_distance(domain, legit) for legit in legit_domains)"
   ]
  },
  {
   "cell_type": "code",
   "execution_count": 17,
   "id": "d4dee020-0230-44de-8a89-46cbeefcf894",
   "metadata": {},
   "outputs": [],
   "source": [
    "df['levenshtein_distance'] = df['domain'].apply(lambda x: get_min_levenshtein(x, top_legit_domains))\n"
   ]
  },
  {
   "cell_type": "code",
   "execution_count": 19,
   "id": "f013b792-0bc9-47b5-8290-7fe7bdabaa2b",
   "metadata": {},
   "outputs": [],
   "source": [
    "vectorizer = TfidfVectorizer(analyzer='char', ngram_range=(2, 4))\n",
    "url_vectors = vectorizer.fit_transform(df['URL'])\n"
   ]
  },
  {
   "cell_type": "code",
   "execution_count": 23,
   "id": "536700ee-ff1e-4e4e-a21d-19422ef333e3",
   "metadata": {},
   "outputs": [],
   "source": [
    "legit_vectors = vectorizer.transform(top_legit_domains)\n",
    "df['max_cosine_sim'] = [max(cosine_similarity(url_vectors[i], legit_vectors)[0]) for i in range(df.shape[0])]\n"
   ]
  },
  {
   "cell_type": "code",
   "execution_count": 25,
   "id": "94ec84d2-79c8-41a6-aade-5d75bf2da16f",
   "metadata": {},
   "outputs": [],
   "source": [
    "# Step 3: Feature Engineering (Lexical & Host-Based Features)\n",
    "df['url_length'] = df['URL'].apply(len)\n",
    "df['num_digits'] = df['URL'].apply(lambda x: sum(c.isdigit() for c in x))\n",
    "df['num_special_chars'] = df['URL'].apply(lambda x: sum(c in ['.', '/', '-', '_'] for c in x))\n",
    "df['num_subdomains'] = df['URL'].apply(lambda x: x.count('.'))\n",
    "df['has_https'] = df['URL'].apply(lambda x: 1 if 'https' in x.lower() else 0)"
   ]
  },
  {
   "cell_type": "code",
   "execution_count": 27,
   "id": "f02e24cb-0ba0-4dec-b5a5-541efb023960",
   "metadata": {},
   "outputs": [
    {
     "data": {
      "text/html": [
       "<div>\n",
       "<style scoped>\n",
       "    .dataframe tbody tr th:only-of-type {\n",
       "        vertical-align: middle;\n",
       "    }\n",
       "\n",
       "    .dataframe tbody tr th {\n",
       "        vertical-align: top;\n",
       "    }\n",
       "\n",
       "    .dataframe thead th {\n",
       "        text-align: right;\n",
       "    }\n",
       "</style>\n",
       "<table border=\"1\" class=\"dataframe\">\n",
       "  <thead>\n",
       "    <tr style=\"text-align: right;\">\n",
       "      <th></th>\n",
       "      <th>URL</th>\n",
       "      <th>Label</th>\n",
       "      <th>domain</th>\n",
       "      <th>levenshtein_distance</th>\n",
       "      <th>max_cosine_sim</th>\n",
       "      <th>url_length</th>\n",
       "      <th>num_digits</th>\n",
       "      <th>num_special_chars</th>\n",
       "      <th>num_subdomains</th>\n",
       "      <th>has_https</th>\n",
       "    </tr>\n",
       "  </thead>\n",
       "  <tbody>\n",
       "    <tr>\n",
       "      <th>0</th>\n",
       "      <td>nobell.it/70ffb52d079109dca5664cce6f317373782/...</td>\n",
       "      <td>bad</td>\n",
       "      <td>nobell.it</td>\n",
       "      <td>7</td>\n",
       "      <td>0.028777</td>\n",
       "      <td>225</td>\n",
       "      <td>58</td>\n",
       "      <td>24</td>\n",
       "      <td>6</td>\n",
       "      <td>0</td>\n",
       "    </tr>\n",
       "    <tr>\n",
       "      <th>1</th>\n",
       "      <td>www.dghjdgf.com/paypal.co.uk/cycgi-bin/webscrc...</td>\n",
       "      <td>bad</td>\n",
       "      <td>dghjdgf.com</td>\n",
       "      <td>6</td>\n",
       "      <td>0.036444</td>\n",
       "      <td>81</td>\n",
       "      <td>1</td>\n",
       "      <td>12</td>\n",
       "      <td>5</td>\n",
       "      <td>0</td>\n",
       "    </tr>\n",
       "    <tr>\n",
       "      <th>2</th>\n",
       "      <td>serviciosbys.com/paypal.cgi.bin.get-into.herf....</td>\n",
       "      <td>bad</td>\n",
       "      <td>serviciosbys.com</td>\n",
       "      <td>9</td>\n",
       "      <td>0.026586</td>\n",
       "      <td>177</td>\n",
       "      <td>47</td>\n",
       "      <td>19</td>\n",
       "      <td>7</td>\n",
       "      <td>0</td>\n",
       "    </tr>\n",
       "    <tr>\n",
       "      <th>3</th>\n",
       "      <td>mail.printakid.com/www.online.americanexpress....</td>\n",
       "      <td>bad</td>\n",
       "      <td>printakid.com</td>\n",
       "      <td>6</td>\n",
       "      <td>0.185204</td>\n",
       "      <td>60</td>\n",
       "      <td>0</td>\n",
       "      <td>8</td>\n",
       "      <td>6</td>\n",
       "      <td>0</td>\n",
       "    </tr>\n",
       "    <tr>\n",
       "      <th>4</th>\n",
       "      <td>thewhiskeydregs.com/wp-content/themes/widescre...</td>\n",
       "      <td>bad</td>\n",
       "      <td>thewhiskeydregs.com</td>\n",
       "      <td>10</td>\n",
       "      <td>0.047676</td>\n",
       "      <td>116</td>\n",
       "      <td>21</td>\n",
       "      <td>12</td>\n",
       "      <td>1</td>\n",
       "      <td>0</td>\n",
       "    </tr>\n",
       "  </tbody>\n",
       "</table>\n",
       "</div>"
      ],
      "text/plain": [
       "                                                 URL Label  \\\n",
       "0  nobell.it/70ffb52d079109dca5664cce6f317373782/...   bad   \n",
       "1  www.dghjdgf.com/paypal.co.uk/cycgi-bin/webscrc...   bad   \n",
       "2  serviciosbys.com/paypal.cgi.bin.get-into.herf....   bad   \n",
       "3  mail.printakid.com/www.online.americanexpress....   bad   \n",
       "4  thewhiskeydregs.com/wp-content/themes/widescre...   bad   \n",
       "\n",
       "                domain  levenshtein_distance  max_cosine_sim  url_length  \\\n",
       "0            nobell.it                     7        0.028777         225   \n",
       "1          dghjdgf.com                     6        0.036444          81   \n",
       "2     serviciosbys.com                     9        0.026586         177   \n",
       "3        printakid.com                     6        0.185204          60   \n",
       "4  thewhiskeydregs.com                    10        0.047676         116   \n",
       "\n",
       "   num_digits  num_special_chars  num_subdomains  has_https  \n",
       "0          58                 24               6          0  \n",
       "1           1                 12               5          0  \n",
       "2          47                 19               7          0  \n",
       "3           0                  8               6          0  \n",
       "4          21                 12               1          0  "
      ]
     },
     "execution_count": 27,
     "metadata": {},
     "output_type": "execute_result"
    }
   ],
   "source": [
    "df.head()"
   ]
  },
  {
   "cell_type": "code",
   "execution_count": 29,
   "id": "48771dfa-258a-4592-ad6c-f67ca6c2ba5f",
   "metadata": {},
   "outputs": [
    {
     "name": "stdout",
     "output_type": "stream",
     "text": [
      "<class 'pandas.core.frame.DataFrame'>\n",
      "RangeIndex: 549346 entries, 0 to 549345\n",
      "Data columns (total 10 columns):\n",
      " #   Column                Non-Null Count   Dtype  \n",
      "---  ------                --------------   -----  \n",
      " 0   URL                   549346 non-null  object \n",
      " 1   Label                 549346 non-null  object \n",
      " 2   domain                549346 non-null  object \n",
      " 3   levenshtein_distance  549346 non-null  int64  \n",
      " 4   max_cosine_sim        549346 non-null  float64\n",
      " 5   url_length            549346 non-null  int64  \n",
      " 6   num_digits            549346 non-null  int64  \n",
      " 7   num_special_chars     549346 non-null  int64  \n",
      " 8   num_subdomains        549346 non-null  int64  \n",
      " 9   has_https             549346 non-null  int64  \n",
      "dtypes: float64(1), int64(6), object(3)\n",
      "memory usage: 41.9+ MB\n"
     ]
    }
   ],
   "source": [
    "df.info()"
   ]
  },
  {
   "cell_type": "code",
   "execution_count": 31,
   "id": "253197b1-18e8-40c2-acd8-86366b177f7a",
   "metadata": {},
   "outputs": [],
   "source": [
    "from sklearn.feature_extraction.text import CountVectorizer\n",
    "vectorizer = CountVectorizer()\n",
    "domain_features = vectorizer.fit_transform(df[\"domain\"])"
   ]
  },
  {
   "cell_type": "code",
   "execution_count": 33,
   "id": "eabda7ab-d097-4295-8dbf-50ad9ffbd623",
   "metadata": {},
   "outputs": [],
   "source": [
    "# Step 4: Convert Labels to Numerical\n",
    "label_encoder = LabelEncoder()\n",
    "df['Label'] = label_encoder.fit_transform(df['Label'])  # 0 = Legitimate, 1 = Malicious"
   ]
  },
  {
   "cell_type": "code",
   "execution_count": 35,
   "id": "13e92aa8-0bb4-4834-9209-95f7d70107b4",
   "metadata": {},
   "outputs": [
    {
     "data": {
      "image/png": "[encoded data removed]",
      "text/plain": [
       "<Figure size 500x300 with 1 Axes>"
      ]
     },
     "metadata": {},
     "output_type": "display_data"
    }
   ],
   "source": [
    "plt.figure(figsize=(5, 3))\n",
    "sns.countplot(x=df['Label'])\n",
    "plt.show()"
   ]
  },
  {
   "cell_type": "code",
   "execution_count": 37,
   "id": "15ec240d-85a9-4583-9c6d-b8d0204294e1",
   "metadata": {},
   "outputs": [],
   "source": [
    "# Visualizing the Dataframe using Pairplot\n",
    "#plt.figure(figsize=(3, 2), dpi=200)\n",
    "#sns.pairplot(df, hue=\"Label\");\n",
    "#plt.show()"
   ]
  },
  {
   "cell_type": "code",
   "execution_count": 39,
   "id": "98e153d3-292e-4dad-80d2-66c3b4a7f700",
   "metadata": {},
   "outputs": [],
   "source": [
    "X = df.drop(columns=['Label','URL','domain'])\n",
    "y = df['Label']"
   ]
  },
  {
   "cell_type": "code",
   "execution_count": 41,
   "id": "849ac91f-a3aa-441c-8371-bfeb9ebf1267",
   "metadata": {},
   "outputs": [
    {
     "data": {
      "text/html": [
       "<div>\n",
       "<style scoped>\n",
       "    .dataframe tbody tr th:only-of-type {\n",
       "        vertical-align: middle;\n",
       "    }\n",
       "\n",
       "    .dataframe tbody tr th {\n",
       "        vertical-align: top;\n",
       "    }\n",
       "\n",
       "    .dataframe thead th {\n",
       "        text-align: right;\n",
       "    }\n",
       "</style>\n",
       "<table border=\"1\" class=\"dataframe\">\n",
       "  <thead>\n",
       "    <tr style=\"text-align: right;\">\n",
       "      <th></th>\n",
       "      <th>levenshtein_distance</th>\n",
       "      <th>max_cosine_sim</th>\n",
       "      <th>url_length</th>\n",
       "      <th>num_digits</th>\n",
       "      <th>num_special_chars</th>\n",
       "      <th>num_subdomains</th>\n",
       "      <th>has_https</th>\n",
       "    </tr>\n",
       "  </thead>\n",
       "  <tbody>\n",
       "    <tr>\n",
       "      <th>0</th>\n",
       "      <td>7</td>\n",
       "      <td>0.028777</td>\n",
       "      <td>225</td>\n",
       "      <td>58</td>\n",
       "      <td>24</td>\n",
       "      <td>6</td>\n",
       "      <td>0</td>\n",
       "    </tr>\n",
       "    <tr>\n",
       "      <th>1</th>\n",
       "      <td>6</td>\n",
       "      <td>0.036444</td>\n",
       "      <td>81</td>\n",
       "      <td>1</td>\n",
       "      <td>12</td>\n",
       "      <td>5</td>\n",
       "      <td>0</td>\n",
       "    </tr>\n",
       "    <tr>\n",
       "      <th>2</th>\n",
       "      <td>9</td>\n",
       "      <td>0.026586</td>\n",
       "      <td>177</td>\n",
       "      <td>47</td>\n",
       "      <td>19</td>\n",
       "      <td>7</td>\n",
       "      <td>0</td>\n",
       "    </tr>\n",
       "    <tr>\n",
       "      <th>3</th>\n",
       "      <td>6</td>\n",
       "      <td>0.185204</td>\n",
       "      <td>60</td>\n",
       "      <td>0</td>\n",
       "      <td>8</td>\n",
       "      <td>6</td>\n",
       "      <td>0</td>\n",
       "    </tr>\n",
       "    <tr>\n",
       "      <th>4</th>\n",
       "      <td>10</td>\n",
       "      <td>0.047676</td>\n",
       "      <td>116</td>\n",
       "      <td>21</td>\n",
       "      <td>12</td>\n",
       "      <td>1</td>\n",
       "      <td>0</td>\n",
       "    </tr>\n",
       "  </tbody>\n",
       "</table>\n",
       "</div>"
      ],
      "text/plain": [
       "   levenshtein_distance  max_cosine_sim  url_length  num_digits  \\\n",
       "0                     7        0.028777         225          58   \n",
       "1                     6        0.036444          81           1   \n",
       "2                     9        0.026586         177          47   \n",
       "3                     6        0.185204          60           0   \n",
       "4                    10        0.047676         116          21   \n",
       "\n",
       "   num_special_chars  num_subdomains  has_https  \n",
       "0                 24               6          0  \n",
       "1                 12               5          0  \n",
       "2                 19               7          0  \n",
       "3                  8               6          0  \n",
       "4                 12               1          0  "
      ]
     },
     "execution_count": 41,
     "metadata": {},
     "output_type": "execute_result"
    }
   ],
   "source": [
    "X.head()"
   ]
  },
  {
   "cell_type": "code",
   "execution_count": 43,
   "id": "0e316792-1b8f-4b44-8321-97df13c1d1c6",
   "metadata": {},
   "outputs": [
    {
     "data": {
      "text/plain": [
       "0    0\n",
       "1    0\n",
       "2    0\n",
       "3    0\n",
       "4    0\n",
       "Name: Label, dtype: int32"
      ]
     },
     "execution_count": 43,
     "metadata": {},
     "output_type": "execute_result"
    }
   ],
   "source": [
    "y.head()"
   ]
  },
  {
   "cell_type": "code",
   "execution_count": 45,
   "id": "db258137-81fa-48f1-99c9-3e91312efd04",
   "metadata": {},
   "outputs": [],
   "source": [
    "from sklearn.model_selection import train_test_split"
   ]
  },
  {
   "cell_type": "code",
   "execution_count": 47,
   "id": "efc2d780-6697-427d-a3ff-57bd9defee30",
   "metadata": {},
   "outputs": [],
   "source": [
    "X_train, X_test, y_train, y_test = train_test_split(X, y, test_size=0.3, random_state=101)"
   ]
  },
  {
   "cell_type": "code",
   "execution_count": 49,
   "id": "9d97fa65-b0fc-4dd8-ba02-3b4edcda383a",
   "metadata": {},
   "outputs": [],
   "source": [
    "scaler = StandardScaler()\n",
    " # Scale the X_train & X_test\n",
    "X_train = scaler.fit_transform(X_train)\n",
    "X_test = scaler.transform(X_test)"
   ]
  },
  {
   "cell_type": "code",
   "execution_count": 51,
   "id": "2baa9086-983e-44d0-a428-0884aab86384",
   "metadata": {},
   "outputs": [],
   "source": [
    "from sklearn.preprocessing import  PolynomialFeatures\n"
   ]
  },
  {
   "cell_type": "code",
   "execution_count": 53,
   "id": "0585ffa6-29d4-4bb0-a715-6e26c70fc41f",
   "metadata": {},
   "outputs": [],
   "source": [
    "poly = PolynomialFeatures(degree=2, include_bias=False)\n",
    "X_train_poly = poly.fit_transform(X_train)\n",
    "X_test_poly = poly.transform(X_test)"
   ]
  },
  {
   "cell_type": "code",
   "execution_count": 55,
   "id": "7b8daff4-fb3c-4d1f-aa12-d31d8250eaf8",
   "metadata": {},
   "outputs": [],
   "source": [
    "models = {\n",
    "    \"Logistic Regression\": LogisticRegression(),\n",
    "    \"Polynomial Regression\": LogisticRegression(),\n",
    "    \"K-Nearest Neighbors\": KNeighborsClassifier(),\n",
    "    \"Naive Bayes\": GaussianNB(),\n",
    "    \"Decision Tree\": DecisionTreeClassifier(),\n",
    "    \"Random Forest\": RandomForestClassifier(),\n",
    "    \"AdaBoost\": AdaBoostClassifier(),\n",
    "    \"Gradient Boosting\": GradientBoostingClassifier(),\n",
    "    \"XGBoost\": xgb.XGBClassifier()\n",
    " }"
   ]
  },
  {
   "cell_type": "code",
   "execution_count": 57,
   "id": "604bd5a1-e5c1-4628-b97d-f28a1af7a1a2",
   "metadata": {},
   "outputs": [
    {
     "name": "stdout",
     "output_type": "stream",
     "text": [
      "\n",
      "\u001b[1mLogistic Regression:\u001b[0m\n",
      "Accuracy:0.7760369893934613\n",
      "Classification Report:\n",
      "              precision    recall  f1-score   support\n",
      "\n",
      "           0       0.70      0.37      0.48     46637\n",
      "           1       0.79      0.94      0.86    118167\n",
      "\n",
      "    accuracy                           0.78    164804\n",
      "   macro avg       0.74      0.65      0.67    164804\n",
      "weighted avg       0.76      0.78      0.75    164804\n",
      "\n",
      "\n",
      "\u001b[1mPolynomial Regression:\u001b[0m\n",
      "Accuracy:0.8098953908885707\n",
      "Classification Report:\n",
      "              precision    recall  f1-score   support\n",
      "\n",
      "           0       0.80      0.44      0.57     46637\n",
      "           1       0.81      0.96      0.88    118167\n",
      "\n",
      "    accuracy                           0.81    164804\n",
      "   macro avg       0.81      0.70      0.72    164804\n",
      "weighted avg       0.81      0.81      0.79    164804\n",
      "\n",
      "\n",
      "\u001b[1mK-Nearest Neighbors:\u001b[0m\n",
      "Accuracy:0.8654887017305405\n",
      "Classification Report:\n",
      "              precision    recall  f1-score   support\n",
      "\n",
      "           0       0.78      0.73      0.75     46637\n",
      "           1       0.90      0.92      0.91    118167\n",
      "\n",
      "    accuracy                           0.87    164804\n",
      "   macro avg       0.84      0.82      0.83    164804\n",
      "weighted avg       0.86      0.87      0.86    164804\n",
      "\n",
      "\n",
      "\u001b[1mNaive Bayes:\u001b[0m\n",
      "Accuracy:0.7631307492536589\n",
      "Classification Report:\n",
      "              precision    recall  f1-score   support\n",
      "\n",
      "           0       0.76      0.24      0.36     46637\n",
      "           1       0.76      0.97      0.85    118167\n",
      "\n",
      "    accuracy                           0.76    164804\n",
      "   macro avg       0.76      0.60      0.61    164804\n",
      "weighted avg       0.76      0.76      0.72    164804\n",
      "\n",
      "\n",
      "\u001b[1mDecision Tree:\u001b[0m\n",
      "Accuracy:0.8629220164559113\n",
      "Classification Report:\n",
      "              precision    recall  f1-score   support\n",
      "\n",
      "           0       0.74      0.79      0.76     46637\n",
      "           1       0.91      0.89      0.90    118167\n",
      "\n",
      "    accuracy                           0.86    164804\n",
      "   macro avg       0.83      0.84      0.83    164804\n",
      "weighted avg       0.87      0.86      0.86    164804\n",
      "\n",
      "\n",
      "\u001b[1mRandom Forest:\u001b[0m\n",
      "Accuracy:0.8907914856435524\n",
      "Classification Report:\n",
      "              precision    recall  f1-score   support\n",
      "\n",
      "           0       0.81      0.80      0.81     46637\n",
      "           1       0.92      0.93      0.92    118167\n",
      "\n",
      "    accuracy                           0.89    164804\n",
      "   macro avg       0.87      0.86      0.86    164804\n",
      "weighted avg       0.89      0.89      0.89    164804\n",
      "\n",
      "\n",
      "\u001b[1mAdaBoost:\u001b[0m\n"
     ]
    },
    {
     "name": "stderr",
     "output_type": "stream",
     "text": [
      "C:\\Users\\mouni\\anaconda3\\Lib\\site-packages\\sklearn\\ensemble\\_weight_boosting.py:519: FutureWarning: The SAMME.R algorithm (the default) is deprecated and will be removed in 1.6. Use the SAMME algorithm to circumvent this warning.\n",
      "  warnings.warn(\n"
     ]
    },
    {
     "name": "stdout",
     "output_type": "stream",
     "text": [
      "Accuracy:0.8082449455110313\n",
      "Classification Report:\n",
      "              precision    recall  f1-score   support\n",
      "\n",
      "           0       0.75      0.48      0.59     46637\n",
      "           1       0.82      0.94      0.88    118167\n",
      "\n",
      "    accuracy                           0.81    164804\n",
      "   macro avg       0.79      0.71      0.73    164804\n",
      "weighted avg       0.80      0.81      0.79    164804\n",
      "\n",
      "\n",
      "\u001b[1mGradient Boosting:\u001b[0m\n",
      "Accuracy:0.8338996626295478\n",
      "Classification Report:\n",
      "              precision    recall  f1-score   support\n",
      "\n",
      "           0       0.81      0.54      0.65     46637\n",
      "           1       0.84      0.95      0.89    118167\n",
      "\n",
      "    accuracy                           0.83    164804\n",
      "   macro avg       0.82      0.75      0.77    164804\n",
      "weighted avg       0.83      0.83      0.82    164804\n",
      "\n",
      "\n",
      "\u001b[1mXGBoost:\u001b[0m\n",
      "Accuracy:0.8585046479454382\n",
      "Classification Report:\n",
      "              precision    recall  f1-score   support\n",
      "\n",
      "           0       0.83      0.63      0.72     46637\n",
      "           1       0.87      0.95      0.91    118167\n",
      "\n",
      "    accuracy                           0.86    164804\n",
      "   macro avg       0.85      0.79      0.81    164804\n",
      "weighted avg       0.86      0.86      0.85    164804\n",
      "\n"
     ]
    }
   ],
   "source": [
    "# Iterate over each model in the dictionary\n",
    "for name, model in models.items():  \n",
    "    print(f\"\\n\\033[1m{name}:\\033[0m\")\n",
    "    # Check if the model is Polynomial Regression (requires polynomial features)\n",
    "    if name == \"Polynomial Regression\":\n",
    "        model.fit(X_train_poly, y_train)\n",
    "        y_pred = model.predict(X_test_poly)\n",
    "    else:\n",
    "        model.fit(X_train, y_train)  # Train model with standardized training data\n",
    "        y_pred = model.predict(X_test)  # Predict using standardized test data\n",
    "    \n",
    "    # Calculating the accuracy score\n",
    "    accuracy = accuracy_score(y_test, y_pred)\n",
    "    print(f\"Accuracy:{accuracy}\")\n",
    "    \n",
    "    # Printing detailed classification report\n",
    "    print(\"Classification Report:\")\n",
    "    print(classification_report(y_test, y_pred))"
   ]
  },
  {
   "cell_type": "code",
   "execution_count": null,
   "id": "ecc63537-ddae-49d9-b801-8cd569f8a5df",
   "metadata": {},
   "outputs": [],
   "source": []
  }
 ],
 "metadata": {
  "kernelspec": {
   "display_name": "Python 3 (ipykernel)",
   "language": "python",
   "name": "python3"
  },
  "language_info": {
   "codemirror_mode": {
    "name": "ipython",
    "version": 3
   },
   "file_extension": ".py",
   "mimetype": "text/x-python",
   "name": "python",
   "nbconvert_exporter": "python",
   "pygments_lexer": "ipython3",
   "version": "3.12.4"
  }
 },
 "nbformat": 4,
 "nbformat_minor": 5
}
